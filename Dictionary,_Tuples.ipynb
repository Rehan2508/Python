{
  "nbformat": 4,
  "nbformat_minor": 0,
  "metadata": {
    "colab": {
      "name": "Dictionary, Tuples.ipynb",
      "version": "0.3.2",
      "provenance": []
    },
    "kernelspec": {
      "name": "python3",
      "display_name": "Python 3"
    }
  },
  "cells": [
    {
      "metadata": {
        "id": "s5g13xBaA8Xb",
        "colab_type": "text"
      },
      "cell_type": "markdown",
      "source": [
        "Calculate the Word Frequencies in a string"
      ]
    },
    {
      "metadata": {
        "id": "2AtY4cLZ92BP",
        "colab_type": "code",
        "colab": {
          "base_uri": "https://localhost:8080/",
          "height": 34
        },
        "outputId": "f508fb34-9a9f-44bf-da6e-f2f9f937b01a"
      },
      "cell_type": "code",
      "source": [
        "def wordCont(string):\n",
        "  words = string.split()\n",
        "  contDict = {}\n",
        "  punctuations = ['.',',','?','!']\n",
        "  for i in words:\n",
        "    if i in contDict.keys():\n",
        "      contDict[i]+=1\n",
        "    else:\n",
        "      if i[-1] in punctuations:\n",
        "        contDict.update({i[0:-1] : 1})\n",
        "      else:\n",
        "        contDict.update({i : 1})\n",
        "  print(f'Word Frequencies : {contDict}')\n",
        "  \n",
        "  \n",
        "string = 'this is  a word count program. this is a python program? yes this is a python program.'\n",
        "wordCont(string)"
      ],
      "execution_count": 8,
      "outputs": [
        {
          "output_type": "stream",
          "text": [
            "Word Frequencies : {'this': 3, 'is': 3, 'a': 3, 'word': 1, 'count': 1, 'program': 1, 'python': 2, 'yes': 1}\n"
          ],
          "name": "stdout"
        }
      ]
    },
    {
      "metadata": {
        "id": "LueNvI7tQKZd",
        "colab_type": "text"
      },
      "cell_type": "markdown",
      "source": [
        "Result Calculation. Create a dictionary and a list like following:\n",
        "Student = { 'UE183001': 'Avish', 'UE183002': 'Bhavya', 'UE183003': 'Tanya' } Add atleast 10 students\n",
        "Marks = [('UE183001', 'CS', 94 ), ('UE183002', 'CS', 64 ), ('UE183001', 'RV', 94), ('UE183002', 'CS', 74), ('UE183003', 'CS', 64)]\n",
        "Find total marks of each students and display full name of student with total marks secured. This is the basic relational database join algorithm between two tables."
      ]
    },
    {
      "metadata": {
        "id": "DdvhQXN7BHod",
        "colab_type": "code",
        "colab": {
          "base_uri": "https://localhost:8080/",
          "height": 204
        },
        "outputId": "3e90d150-c2fa-4af9-813d-5b742fd4dabe"
      },
      "cell_type": "code",
      "source": [
        "Student={'UE163001':'Naman','UE163002':'Rahul',\n",
        "         'UE163003':'Rehan','UE163004':'Vartika',\n",
        "         'UE163005':'Sahil','UE163006':'Shivam',\n",
        "         'UE163007':'Suneet','UE163008':'Vaibhav',\n",
        "         'UE163009':'Vishal','UE163010':'Aditya'}\n",
        "\n",
        "Marks=[('UE163001','CS',85),('UE163001','DM',85),\n",
        "       ('UE163002','CS',82),('UE163002','DM',83),\n",
        "       ('UE163003','CS',91),('UE163003','DM',95),\n",
        "       ('UE163004','CS',98),('UE163004','DM',94),\n",
        "       ('UE163005','CS',92),('UE163005','DM',90),\n",
        "       ('UE163006','CS',82),('UE163006','DM',88),\n",
        "       ('UE163007','CS',98),('UE163007','DM',97),\n",
        "       ('UE163008','CS',95),('UE163008','DM',87),\n",
        "       ('UE163009','CS',86),('UE163009','DM',88),\n",
        "       ('UE163010','CS',95),('UE163010','DM',92)]\n",
        "\n",
        "\"\"\"\n",
        "FOR DYNAMIC INPUT\n",
        "def cast(entry):\n",
        "  entry[2] = int(entry[2])\n",
        "  return entry\n",
        "\n",
        "Student = {input(f'enter the {i + 1} students roll no. and name : ')for i in range(int(input('enter the number of students = ')))}\n",
        "Marks = [tuple(cast(input(f'enter the {j + 1} entry : ').split(',')))for j in range(int(input('enter the number of students = '))*int(input('enter the number of subjects : ')))]\n",
        "print(f'Students : {Student}')\n",
        "print(f'Marks : {Marks}')\"\"\"\n",
        "\n",
        "\n",
        "\n",
        "def resultCal(Student,Marks):\n",
        "  result = {}\n",
        "  for i in Marks:\n",
        "    if i[0] in result.keys():\n",
        "      result[i[0]]+=i[2]\n",
        "    else:\n",
        "      result.update({i[0]:i[2]})\n",
        "  return result\n",
        "      \n",
        "def disp_result(Student,result):\n",
        "  print('Result of each student : ')\n",
        "  for i in Student:\n",
        "    print(f'{Student[i]} : {result[i]}')\n",
        "\n",
        "disp_result(Student,resultCal(Student,Marks))"
      ],
      "execution_count": 27,
      "outputs": [
        {
          "output_type": "stream",
          "text": [
            "Result of each student : \n",
            "Naman : 170\n",
            "Rahul : 165\n",
            "Rehan : 186\n",
            "Vartika : 192\n",
            "Sahil : 182\n",
            "Shivam : 170\n",
            "Suneet : 195\n",
            "Vaibhav : 182\n",
            "Vishal : 174\n",
            "Aditya : 187\n"
          ],
          "name": "stdout"
        }
      ]
    },
    {
      "metadata": {
        "id": "8zxhLTTQL6eJ",
        "colab_type": "text"
      },
      "cell_type": "markdown",
      "source": [
        "A date of the form 8-MAR-85 includes the name of the month, which must be translated to a number i.e, Translate the month, correct the year to include all of the digits.The function will accept a date in the \"dd-MMM-yy\" format and respond with a tuple of ( y , m , d ).\n"
      ]
    },
    {
      "metadata": {
        "id": "FXwxiPcuQcA2",
        "colab_type": "code",
        "colab": {
          "base_uri": "https://localhost:8080/",
          "height": 85
        },
        "outputId": "bc71bad6-ea22-4d58-9d23-21ef83d31738"
      },
      "cell_type": "code",
      "source": [
        "month = {'JAN' : 1, 'FEB' : 2, 'MAR' : 3, 'APR' : 4, 'MAY' : 5, 'JUN' : 6,\n",
        "         'JUL' : 7, 'AUG' : 8, 'SEP' : 9, 'OCT' : 10, 'NOV' : 11, 'DEC' : 12}\n",
        "\n",
        "def Translate(string):\n",
        "  date = string.split('-')\n",
        "  if date[2] in range(0,19):\n",
        "    yr = '20' + date[2]\n",
        "  else:\n",
        "    yr = '19' + date[2]\n",
        "  return tuple((int(yr),month[date[1]],int(date[0])))\n",
        "\n",
        "print(f'Translated date : {Translate(\"8-MAR-85\")}')\n",
        "print(f'Translated date : {Translate(\"8-APR-19\")}')\n",
        "print(f'Translated date : {Translate(\"25-AUG-98\")}')\n",
        "print(f'Translated date : {Translate(\"9-SEP-98\")}')"
      ],
      "execution_count": 5,
      "outputs": [
        {
          "output_type": "stream",
          "text": [
            "Translated date : (1985, 3, 8)\n",
            "Translated date : (1919, 4, 8)\n",
            "Translated date : (1998, 8, 25)\n",
            "Translated date : (1998, 9, 9)\n"
          ],
          "name": "stdout"
        }
      ]
    },
    {
      "metadata": {
        "id": "onw6GA_PPtBh",
        "colab_type": "text"
      },
      "cell_type": "markdown",
      "source": [
        "Create a dict of all combinations, using the sum of the two dice as the key. Each value in the dict should be a list of tuples; each tuple has the value of two dice."
      ]
    },
    {
      "metadata": {
        "id": "KCwGD2dFMcFN",
        "colab_type": "code",
        "colab": {
          "base_uri": "https://localhost:8080/",
          "height": 204
        },
        "outputId": "d47ea743-32d2-48ee-b649-c3e247fbff9d"
      },
      "cell_type": "code",
      "source": [
        "diceSum ={}\n",
        "\n",
        "for i in range(1,7):\n",
        "  for j in range(1,7):\n",
        "    if (i + j) in diceSum.keys():\n",
        "      diceSum[(i + j)].append(tuple((i,j)))\n",
        "    else:\n",
        "      diceSum.update({(i + j) : list(tuple((i,j)))})\n",
        "      \n",
        "for i in diceSum:\n",
        "  print(f'{i} : {diceSum[i]}')"
      ],
      "execution_count": 12,
      "outputs": [
        {
          "output_type": "stream",
          "text": [
            "2 : [1, 1]\n",
            "3 : [1, 2, (2, 1)]\n",
            "4 : [1, 3, (2, 2), (3, 1)]\n",
            "5 : [1, 4, (2, 3), (3, 2), (4, 1)]\n",
            "6 : [1, 5, (2, 4), (3, 3), (4, 2), (5, 1)]\n",
            "7 : [1, 6, (2, 5), (3, 4), (4, 3), (5, 2), (6, 1)]\n",
            "8 : [2, 6, (3, 5), (4, 4), (5, 3), (6, 2)]\n",
            "9 : [3, 6, (4, 5), (5, 4), (6, 3)]\n",
            "10 : [4, 6, (5, 5), (6, 4)]\n",
            "11 : [5, 6, (6, 5)]\n",
            "12 : [6, 6]\n"
          ],
          "name": "stdout"
        }
      ]
    }
  ]
}