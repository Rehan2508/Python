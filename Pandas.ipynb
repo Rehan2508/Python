{
  "nbformat": 4,
  "nbformat_minor": 0,
  "metadata": {
    "colab": {
      "name": "Pandas.ipynb",
      "version": "0.3.2",
      "provenance": [],
      "collapsed_sections": []
    },
    "kernelspec": {
      "name": "python3",
      "display_name": "Python 3"
    }
  },
  "cells": [
    {
      "metadata": {
        "id": "Uoc-qEgDdO-p",
        "colab_type": "code",
        "outputId": "bab7305a-24f4-4613-9838-ea0b38f2ac81",
        "colab": {
          "base_uri": "https://localhost:8080/",
          "height": 34
        }
      },
      "cell_type": "code",
      "source": [
        "from google.colab import drive\n",
        "drive.mount('/gdrive')"
      ],
      "execution_count": 27,
      "outputs": [
        {
          "output_type": "stream",
          "text": [
            "Drive already mounted at /gdrive; to attempt to forcibly remount, call drive.mount(\"/gdrive\", force_remount=True).\n"
          ],
          "name": "stdout"
        }
      ]
    },
    {
      "metadata": {
        "id": "NBv7cU4XmdDn",
        "colab_type": "code",
        "colab": {}
      },
      "cell_type": "code",
      "source": [
        "import pandas as pd\n",
        "import numpy as np"
      ],
      "execution_count": 0,
      "outputs": []
    },
    {
      "metadata": {
        "id": "UfWobF5MmiBG",
        "colab_type": "code",
        "outputId": "f8d106eb-3e01-40e2-fafc-838cce89c8cb",
        "colab": {
          "base_uri": "https://localhost:8080/",
          "height": 136
        }
      },
      "cell_type": "code",
      "source": [
        "path = '/gdrive/My Drive/Top 100 Private Colleges.2003.csv'\n",
        "colleges = pd.read_csv(path)\n",
        "print(colleges.columns)"
      ],
      "execution_count": 29,
      "outputs": [
        {
          "output_type": "stream",
          "text": [
            "Index(['Overall Rank', 'School', 'State', 'Undergrad. Enrollment',\n",
            "       'Admission Rate', '*SAT or ACT', 'Student/faculty Ratio',\n",
            "       '4-year Grad. Rate', '6-year Grad. Rate', 'Quality Rank', 'Total Costs',\n",
            "       'Cost After Need-based Aid', 'Need Met', 'Aid From Grants',\n",
            "       'Cost After Non-Need-Based Aid', 'Non-Need-Based Aid+', 'Average Debt',\n",
            "       'Cost Rank'],\n",
            "      dtype='object')\n"
          ],
          "name": "stdout"
        }
      ]
    },
    {
      "metadata": {
        "id": "NiyB9uDMbl1Y",
        "colab_type": "code",
        "colab": {}
      },
      "cell_type": "code",
      "source": [
        "colleges = colleges.drop([100, 101])"
      ],
      "execution_count": 0,
      "outputs": []
    },
    {
      "metadata": {
        "id": "2Yvf2HsZI1Df",
        "colab_type": "text"
      },
      "cell_type": "markdown",
      "source": [
        "List the top 10 quality ranked colleges\n",
        "\n"
      ]
    },
    {
      "metadata": {
        "id": "fJWYuxqYnJUV",
        "colab_type": "code",
        "outputId": "f89dfe7f-7919-41ee-bfa0-64ba20f21940",
        "colab": {
          "base_uri": "https://localhost:8080/",
          "height": 204
        }
      },
      "cell_type": "code",
      "source": [
        "l = []\n",
        "(x,y) = colleges.shape\n",
        "for i in range(x):\n",
        "  if colleges.at[i,'Overall Rank'] in range(1,11):\n",
        "    l.append([colleges.at[i, 'Overall Rank'],colleges.at[i, 'School']])\n",
        "df = pd.DataFrame(l, columns = ['Overall Rank', 'School'])\n",
        "print(df)"
      ],
      "execution_count": 4,
      "outputs": [
        {
          "output_type": "stream",
          "text": [
            "   Overall Rank                              School\n",
            "0           1.0  California Institute of Technology\n",
            "1           2.0                     Rice University\n",
            "2           3.0                    Williams College\n",
            "3           4.0                  Swarthmore College\n",
            "4           5.0                     Amherst College\n",
            "5           6.0                      Webb Institute\n",
            "6           7.0                     Yale University\n",
            "7           8.0       Washington and Lee University\n",
            "8           9.0                  Harvard University\n",
            "9          10.0                 Stanford University\n"
          ],
          "name": "stdout"
        }
      ]
    },
    {
      "metadata": {
        "id": "6n8xBBZbsgTt",
        "colab_type": "text"
      },
      "cell_type": "markdown",
      "source": [
        "List all the colleges in California"
      ]
    },
    {
      "metadata": {
        "id": "uW6YQ2I-qegN",
        "colab_type": "code",
        "outputId": "b7151b10-10bc-4da1-dd2d-33cae02e7984",
        "colab": {
          "base_uri": "https://localhost:8080/",
          "height": 153
        }
      },
      "cell_type": "code",
      "source": [
        "l1 = []\n",
        "for i in range(x):\n",
        "  if colleges.at[i,'State'] == 'CA':\n",
        "    l1.append([colleges.at[i, 'School'], colleges.at[i, 'State']])\n",
        "df1 = pd.DataFrame(l1, columns= ['School', 'State'])\n",
        "print(df1)"
      ],
      "execution_count": 5,
      "outputs": [
        {
          "output_type": "stream",
          "text": [
            "                               School State\n",
            "0  California Institute of Technology    CA\n",
            "1                 Stanford University    CA\n",
            "2                      Pomona College    CA\n",
            "3           Claremont McKenna College    CA\n",
            "4                 Harvey Mudd College    CA\n",
            "5   University of Southern California    CA\n",
            "6                     Scripps College    CA\n"
          ],
          "name": "stdout"
        }
      ]
    },
    {
      "metadata": {
        "id": "Mbeq3KCSBtE0",
        "colab_type": "code",
        "colab": {}
      },
      "cell_type": "code",
      "source": [
        "def to_int(x):\n",
        "  temp = ''\n",
        "  i = 0\n",
        "  while i < len(x):\n",
        "    if x[i] >= '0' and x[i] <= '9':\n",
        "      temp = temp + x[i]\n",
        "    i+=1\n",
        "  return(temp)"
      ],
      "execution_count": 0,
      "outputs": []
    },
    {
      "metadata": {
        "id": "zNa2GSUrJBH3",
        "colab_type": "text"
      },
      "cell_type": "markdown",
      "source": [
        "Which college has lowest average debt?"
      ]
    },
    {
      "metadata": {
        "id": "v6MxLAqn6Gux",
        "colab_type": "code",
        "colab": {}
      },
      "cell_type": "code",
      "source": [
        "i = 0\n",
        "while i < len(colleges.index):\n",
        "  if type(colleges.at[i, 'Average Debt']) == float:\n",
        "    colleges.at[i, 'Average Debt'] = colleges.at[i, 'Average Debt']\n",
        "  else:\n",
        "    colleges.at[i, 'Average Debt'] = to_int(colleges.at[i, 'Average Debt'])\n",
        "  i+=1\n",
        "  \n",
        "colleges['Average Debt'] = pd.to_numeric(colleges['Average Debt'])"
      ],
      "execution_count": 0,
      "outputs": []
    },
    {
      "metadata": {
        "id": "xFoA5NlsXq1o",
        "colab_type": "code",
        "colab": {
          "base_uri": "https://localhost:8080/",
          "height": 34
        },
        "outputId": "59ca8a6d-938c-4c3f-8283-2a63ada172fb"
      },
      "cell_type": "code",
      "source": [
        "i = colleges['Average Debt'].idxmin()\n",
        "print(f'college with minimum Average Debt : {colleges.at[i, \"School\"]}')"
      ],
      "execution_count": 11,
      "outputs": [
        {
          "output_type": "stream",
          "text": [
            "college with minimum Average Debt : Washington University\n"
          ],
          "name": "stdout"
        }
      ]
    },
    {
      "metadata": {
        "id": "vOhx6ChyJDb3",
        "colab_type": "text"
      },
      "cell_type": "markdown",
      "source": [
        " List bottom 10 cost rank colleges"
      ]
    },
    {
      "metadata": {
        "id": "vRzXHXs2aVZX",
        "colab_type": "code",
        "colab": {
          "base_uri": "https://localhost:8080/",
          "height": 204
        },
        "outputId": "d605acb8-0a6c-4be3-d929-aa882dcd2931"
      },
      "cell_type": "code",
      "source": [
        "colleges.sort_values(by = 'Cost Rank').tail(10)['School']"
      ],
      "execution_count": 17,
      "outputs": [
        {
          "output_type": "execute_result",
          "data": {
            "text/plain": [
              "33                    Brown University\n",
              "26                   Dartmouth College\n",
              "22          University of Pennsylvania\n",
              "97    Rensselaer Polytechnic Institute\n",
              "40                  Cornell University\n",
              "99    The George Washington University\n",
              "32               Georgetown University\n",
              "36                  Middlebury College\n",
              "41                 Wesleyan University\n",
              "90                 New York University\n",
              "Name: School, dtype: object"
            ]
          },
          "metadata": {
            "tags": []
          },
          "execution_count": 17
        }
      ]
    },
    {
      "metadata": {
        "id": "A4Pup_-oJOcZ",
        "colab_type": "text"
      },
      "cell_type": "markdown",
      "source": [
        "Among colleges having more than 2000 undergraduates, which has highest faculty/student ratio."
      ]
    },
    {
      "metadata": {
        "id": "sYSB9Xr9byh0",
        "colab_type": "code",
        "colab": {
          "base_uri": "https://localhost:8080/",
          "height": 51
        },
        "outputId": "f1ace245-a563-4889-a085-55c6e45db012"
      },
      "cell_type": "code",
      "source": [
        "l = []\n",
        "for i in colleges.index:\n",
        "  if colleges.at[i, 'Undergrad. Enrollment'] > 2000:\n",
        "    l.append([colleges.at[i, 'Student/faculty Ratio'], colleges.at[i, 'School']])\n",
        "l = pd.DataFrame(l, columns = ['Student/faculty Ratio', 'School'])\n",
        "l.sort_values(by = 'Student/faculty Ratio').tail(1)['School']"
      ],
      "execution_count": 26,
      "outputs": [
        {
          "output_type": "execute_result",
          "data": {
            "text/plain": [
              "37    Brigham Young University\n",
              "Name: School, dtype: object"
            ]
          },
          "metadata": {
            "tags": []
          },
          "execution_count": 26
        }
      ]
    },
    {
      "metadata": {
        "id": "M2iVgFFYJSvF",
        "colab_type": "text"
      },
      "cell_type": "markdown",
      "source": [
        "OR"
      ]
    },
    {
      "metadata": {
        "id": "RhFDAcoBEqaz",
        "colab_type": "code",
        "colab": {
          "base_uri": "https://localhost:8080/",
          "height": 34
        },
        "outputId": "b667e672-8694-48a3-8449-eab1b44a6e1a"
      },
      "cell_type": "code",
      "source": [
        "i = colleges[colleges['Undergrad. Enrollment'] > 2000]['Student/faculty Ratio'].idxmax()\n",
        "print(colleges.at[i, 'School'])"
      ],
      "execution_count": 34,
      "outputs": [
        {
          "output_type": "stream",
          "text": [
            "Brigham Young University\n"
          ],
          "name": "stdout"
        }
      ]
    },
    {
      "metadata": {
        "id": "oNQ19Z_rJU1b",
        "colab_type": "text"
      },
      "cell_type": "markdown",
      "source": [
        "Which college has aid in grant more than 80% and costliest in total cost?"
      ]
    },
    {
      "metadata": {
        "id": "5-rhY2ZDfGG7",
        "colab_type": "code",
        "colab": {
          "base_uri": "https://localhost:8080/",
          "height": 34
        },
        "outputId": "17c89cb2-0497-400b-cb96-b9e71041f805"
      },
      "cell_type": "code",
      "source": [
        "for i in colleges.index:\n",
        "  if type(colleges.at[i, 'Total Costs']) != float:\n",
        "    colleges.at[i, 'Total Costs'] = to_int(colleges.at[i, 'Total Costs'])\n",
        "  if type(colleges.at[i, 'Aid From Grants']) != float:\n",
        "    colleges.at[i, 'Aid From Grants'] = to_int(colleges.at[i, 'Aid From Grants'])\n",
        "\n",
        "colleges['Total Costs'] = pd.to_numeric(colleges['Total Costs'])\n",
        "colleges['Aid From Grants'] = pd.to_numeric(colleges['Aid From Grants'])\n",
        "\n",
        "i = colleges[colleges['Aid From Grants'] > 80]['Total Costs'].idxmax()\n",
        "print(colleges.at[i, 'School'])"
      ],
      "execution_count": 35,
      "outputs": [
        {
          "output_type": "stream",
          "text": [
            "Brown University\n"
          ],
          "name": "stdout"
        }
      ]
    },
    {
      "metadata": {
        "id": "GNEiOJrJJcjM",
        "colab_type": "text"
      },
      "cell_type": "markdown",
      "source": [
        "Among top 50 quality rank colleges, which has lowest total cost"
      ]
    },
    {
      "metadata": {
        "id": "eaIWLi17ICrF",
        "colab_type": "code",
        "colab": {
          "base_uri": "https://localhost:8080/",
          "height": 34
        },
        "outputId": "eb48cfd1-5268-4576-eff1-a970a90265f3"
      },
      "cell_type": "code",
      "source": [
        "i = colleges[colleges['Quality Rank'] < 50]['Total Costs'].idxmin()\n",
        "print(colleges.at[i, 'School'])"
      ],
      "execution_count": 36,
      "outputs": [
        {
          "output_type": "stream",
          "text": [
            "Webb Institute\n"
          ],
          "name": "stdout"
        }
      ]
    }
  ]
}