{
  "nbformat": 4,
  "nbformat_minor": 0,
  "metadata": {
    "colab": {
      "name": "Tuple, List.ipynb",
      "version": "0.3.2",
      "provenance": []
    },
    "kernelspec": {
      "name": "python3",
      "display_name": "Python 3"
    }
  },
  "cells": [
    {
      "metadata": {
        "id": "EOmlU4AGvG0e",
        "colab_type": "text"
      },
      "cell_type": "markdown",
      "source": [
        "A program to sort the (name, age, height) tuples by ascending order where name is string, age and height are numbers.\n",
        "The tuples are input by console. \n",
        "The sort criteria is: 1: Sort based on name; 2: Then sort based on age; 3: Then sort by score. \n",
        "The priority is that name > age > score.\n",
        "\n"
      ]
    },
    {
      "metadata": {
        "id": "Mgn7oe0YmcVQ",
        "colab_type": "code",
        "colab": {
          "base_uri": "https://localhost:8080/",
          "height": 153
        },
        "outputId": "6f1f8956-f751-4189-cb9a-f89615813f2b"
      },
      "cell_type": "code",
      "source": [
        "\"\"\"tuples = [(Tom,19,80),\n",
        "          (John,20,90),\n",
        "          (Jony,17,91),\n",
        "          (Jony,17,93),\n",
        "          (Json,21,85)]\"\"\"\n",
        "\n",
        "def cast(tuples):\n",
        "  tuples[1], tuples[2] = int(tuples[1]), int(tuples[2])\n",
        "  return tuples\n",
        "\n",
        "tuples = [tuple(cast(input(f'enter the tuple number {i + 1} : ').split(',')))for i in range(int(input(\"enter the number of tuples to be added : \")))]\n",
        "print(f'tuples before sorting : {tuples}')\n",
        "\n",
        "tuples = sorted(tuples, key = lambda tuples : (tuples[0], tuples[1], tuples[2]))\n",
        "print(f'tuples after sorting : {tuples}')\n",
        "  "
      ],
      "execution_count": 10,
      "outputs": [
        {
          "output_type": "stream",
          "text": [
            "enter the number of tuples to be added : 5\n",
            "enter the tuple number 1 : Tom,19,80\n",
            "enter the tuple number 2 : John,20,90\n",
            "enter the tuple number 3 : Jony,17,91\n",
            "enter the tuple number 4 : Jony,17,93\n",
            "enter the tuple number 5 : Json,21,85\n",
            "tuples before sorting : [('Tom', 19, 80), ('John', 20, 90), ('Jony', 17, 91), ('Jony', 17, 93), ('Json', 21, 85)]\n",
            "tuples after sorting : [('John', 20, 90), ('Jony', 17, 91), ('Jony', 17, 93), ('Json', 21, 85), ('Tom', 19, 80)]\n"
          ],
          "name": "stdout"
        }
      ]
    },
    {
      "metadata": {
        "id": "QT0s8h7uxbsa",
        "colab_type": "text"
      },
      "cell_type": "markdown",
      "source": [
        "A Python program to find the list in a list of lists whose sum of elements is the highest."
      ]
    },
    {
      "metadata": {
        "id": "WiWXM3wgvTkp",
        "colab_type": "code",
        "colab": {
          "base_uri": "https://localhost:8080/",
          "height": 51
        },
        "outputId": "268c2e9e-97e5-4f4e-ea8f-d1333e939f28"
      },
      "cell_type": "code",
      "source": [
        "lists = [[1,2,3], [4,5,6], [10,11,12], [7,8,9]]\n",
        "maxSum_l = []\n",
        "maxSum = 0\n",
        "for l in lists:\n",
        "  if sum(l) > maxSum :\n",
        "    maxSum_l = l\n",
        "    maxSum = sum(l)\n",
        "print(f'list with maximum sum : {maxSum_l}')\n",
        "print(f'sum = {maxSum}')"
      ],
      "execution_count": 7,
      "outputs": [
        {
          "output_type": "stream",
          "text": [
            "list with maximum sum : [10, 11, 12]\n",
            "sum = 33\n"
          ],
          "name": "stdout"
        }
      ]
    },
    {
      "metadata": {
        "id": "eYv_05YO4Kyg",
        "colab_type": "text"
      },
      "cell_type": "markdown",
      "source": [
        "A Python program to check whether a list contains a sublist."
      ]
    },
    {
      "metadata": {
        "id": "-_v7uPBFxi6b",
        "colab_type": "code",
        "colab": {
          "base_uri": "https://localhost:8080/",
          "height": 68
        },
        "outputId": "130e3847-f4da-4165-a64d-0c4c78e3e41d"
      },
      "cell_type": "code",
      "source": [
        "def chkSublist(l,sub):\n",
        "  for i in l:\n",
        "    if i == sub:\n",
        "      return True\n",
        "    else:\n",
        "      if type(i) == list:\n",
        "        if(chkSublist(i,sub)):\n",
        "          return True\n",
        "  return False\n",
        "\n",
        "def display(chk):\n",
        "  if chk == True:\n",
        "    print(\"List contains the given sublist\")\n",
        "  else:\n",
        "    print(\"List does not contains the given sublist\")\n",
        "\n",
        "display(chkSublist([[[1,2]]], [1,2]))\n",
        "display(chkSublist([1,2,3],[[1]]))\n",
        "display(chkSublist([[1,2,[3]],4,5],[3]))"
      ],
      "execution_count": 9,
      "outputs": [
        {
          "output_type": "stream",
          "text": [
            "List contains the given sublist\n",
            "List does not contains the given sublist\n",
            "List contains the given sublist\n"
          ],
          "name": "stdout"
        }
      ]
    }
  ]
}