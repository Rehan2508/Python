{
  "nbformat": 4,
  "nbformat_minor": 0,
  "metadata": {
    "colab": {
      "name": "Classifiers(iris, digits, boston).ipynb",
      "version": "0.3.2",
      "provenance": [],
      "collapsed_sections": []
    },
    "kernelspec": {
      "name": "python3",
      "display_name": "Python 3"
    }
  },
  "cells": [
    {
      "metadata": {
        "id": "QB17ZCM1ougU",
        "colab_type": "code",
        "colab": {}
      },
      "cell_type": "code",
      "source": [
        "import numpy as np\n",
        "import pandas as pd\n",
        "import random\n",
        "from sklearn import datasets\n",
        "from sklearn import preprocessing"
      ],
      "execution_count": 0,
      "outputs": []
    },
    {
      "metadata": {
        "id": "xYw7v7Uppz0B",
        "colab_type": "code",
        "colab": {}
      },
      "cell_type": "code",
      "source": [
        "from sklearn.neighbors import KNeighborsClassifier\n",
        "from sklearn.linear_model import LogisticRegression\n",
        "from sklearn import svm\n",
        "from sklearn.svm import SVC\n",
        "from sklearn import metrics\n",
        "from sklearn.gaussian_process import GaussianProcessClassifier\n",
        "from sklearn.gaussian_process.kernels import RBF\n",
        "from sklearn.tree import DecisionTreeClassifier\n",
        "from sklearn.ensemble import RandomForestClassifier\n",
        "from sklearn.neural_network  import MLPClassifier\n",
        "from sklearn.ensemble import AdaBoostClassifier\n",
        "from sklearn.naive_bayes import GaussianNB\n",
        "from sklearn.discriminant_analysis import QuadraticDiscriminantAnalysis"
      ],
      "execution_count": 0,
      "outputs": []
    },
    {
      "metadata": {
        "id": "iQGkdhOzVeFD",
        "colab_type": "text"
      },
      "cell_type": "markdown",
      "source": [
        "Iris Dataset"
      ]
    },
    {
      "metadata": {
        "id": "7BzG1BBPqDGU",
        "colab_type": "code",
        "colab": {
          "base_uri": "https://localhost:8080/",
          "height": 1088
        },
        "outputId": "195a5bd0-4c2b-48d6-a35e-e86d2904e02c"
      },
      "cell_type": "code",
      "source": [
        "iris = datasets.load_iris()\n",
        "print(iris.DESCR)"
      ],
      "execution_count": 20,
      "outputs": [
        {
          "output_type": "stream",
          "text": [
            ".. _iris_dataset:\n",
            "\n",
            "Iris plants dataset\n",
            "--------------------\n",
            "\n",
            "**Data Set Characteristics:**\n",
            "\n",
            "    :Number of Instances: 150 (50 in each of three classes)\n",
            "    :Number of Attributes: 4 numeric, predictive attributes and the class\n",
            "    :Attribute Information:\n",
            "        - sepal length in cm\n",
            "        - sepal width in cm\n",
            "        - petal length in cm\n",
            "        - petal width in cm\n",
            "        - class:\n",
            "                - Iris-Setosa\n",
            "                - Iris-Versicolour\n",
            "                - Iris-Virginica\n",
            "                \n",
            "    :Summary Statistics:\n",
            "\n",
            "    ============== ==== ==== ======= ===== ====================\n",
            "                    Min  Max   Mean    SD   Class Correlation\n",
            "    ============== ==== ==== ======= ===== ====================\n",
            "    sepal length:   4.3  7.9   5.84   0.83    0.7826\n",
            "    sepal width:    2.0  4.4   3.05   0.43   -0.4194\n",
            "    petal length:   1.0  6.9   3.76   1.76    0.9490  (high!)\n",
            "    petal width:    0.1  2.5   1.20   0.76    0.9565  (high!)\n",
            "    ============== ==== ==== ======= ===== ====================\n",
            "\n",
            "    :Missing Attribute Values: None\n",
            "    :Class Distribution: 33.3% for each of 3 classes.\n",
            "    :Creator: R.A. Fisher\n",
            "    :Donor: Michael Marshall (MARSHALL%PLU@io.arc.nasa.gov)\n",
            "    :Date: July, 1988\n",
            "\n",
            "The famous Iris database, first used by Sir R.A. Fisher. The dataset is taken\n",
            "from Fisher's paper. Note that it's the same as in R, but not as in the UCI\n",
            "Machine Learning Repository, which has two wrong data points.\n",
            "\n",
            "This is perhaps the best known database to be found in the\n",
            "pattern recognition literature.  Fisher's paper is a classic in the field and\n",
            "is referenced frequently to this day.  (See Duda & Hart, for example.)  The\n",
            "data set contains 3 classes of 50 instances each, where each class refers to a\n",
            "type of iris plant.  One class is linearly separable from the other 2; the\n",
            "latter are NOT linearly separable from each other.\n",
            "\n",
            ".. topic:: References\n",
            "\n",
            "   - Fisher, R.A. \"The use of multiple measurements in taxonomic problems\"\n",
            "     Annual Eugenics, 7, Part II, 179-188 (1936); also in \"Contributions to\n",
            "     Mathematical Statistics\" (John Wiley, NY, 1950).\n",
            "   - Duda, R.O., & Hart, P.E. (1973) Pattern Classification and Scene Analysis.\n",
            "     (Q327.D83) John Wiley & Sons.  ISBN 0-471-22361-1.  See page 218.\n",
            "   - Dasarathy, B.V. (1980) \"Nosing Around the Neighborhood: A New System\n",
            "     Structure and Classification Rule for Recognition in Partially Exposed\n",
            "     Environments\".  IEEE Transactions on Pattern Analysis and Machine\n",
            "     Intelligence, Vol. PAMI-2, No. 1, 67-71.\n",
            "   - Gates, G.W. (1972) \"The Reduced Nearest Neighbor Rule\".  IEEE Transactions\n",
            "     on Information Theory, May 1972, 431-433.\n",
            "   - See also: 1988 MLC Proceedings, 54-64.  Cheeseman et al\"s AUTOCLASS II\n",
            "     conceptual clustering system finds 3 classes in the data.\n",
            "   - Many, many more ...\n"
          ],
          "name": "stdout"
        }
      ]
    },
    {
      "metadata": {
        "id": "306Al4MrqRTN",
        "colab_type": "code",
        "colab": {
          "base_uri": "https://localhost:8080/",
          "height": 85
        },
        "outputId": "ab77283a-5403-44d9-b45b-37c18a3958aa"
      },
      "cell_type": "code",
      "source": [
        "print(iris.keys)\n",
        "print(f'Header : {iris.feature_names}')\n",
        "print(f'Target : {iris.target[np.random.choice(150,20)]}')\n",
        "print(iris.data.shape)"
      ],
      "execution_count": 21,
      "outputs": [
        {
          "output_type": "stream",
          "text": [
            "<built-in method keys of Bunch object at 0x7f68756044c0>\n",
            "Header : ['sepal length (cm)', 'sepal width (cm)', 'petal length (cm)', 'petal width (cm)']\n",
            "Target : [1 1 1 2 0 2 0 0 0 0 0 1 0 0 0 2 0 1 0 0]\n",
            "(150, 4)\n"
          ],
          "name": "stdout"
        }
      ]
    },
    {
      "metadata": {
        "id": "cGuVcdj4rCdr",
        "colab_type": "code",
        "colab": {
          "base_uri": "https://localhost:8080/",
          "height": 204
        },
        "outputId": "f4ffa1a9-51c6-4e69-f74c-7776dd0e04ca"
      },
      "cell_type": "code",
      "source": [
        "iris_df = pd.DataFrame(iris.data, columns = iris.feature_names)\n",
        "iris_df.head()"
      ],
      "execution_count": 22,
      "outputs": [
        {
          "output_type": "execute_result",
          "data": {
            "text/html": [
              "<div>\n",
              "<style scoped>\n",
              "    .dataframe tbody tr th:only-of-type {\n",
              "        vertical-align: middle;\n",
              "    }\n",
              "\n",
              "    .dataframe tbody tr th {\n",
              "        vertical-align: top;\n",
              "    }\n",
              "\n",
              "    .dataframe thead th {\n",
              "        text-align: right;\n",
              "    }\n",
              "</style>\n",
              "<table border=\"1\" class=\"dataframe\">\n",
              "  <thead>\n",
              "    <tr style=\"text-align: right;\">\n",
              "      <th></th>\n",
              "      <th>sepal length (cm)</th>\n",
              "      <th>sepal width (cm)</th>\n",
              "      <th>petal length (cm)</th>\n",
              "      <th>petal width (cm)</th>\n",
              "    </tr>\n",
              "  </thead>\n",
              "  <tbody>\n",
              "    <tr>\n",
              "      <th>0</th>\n",
              "      <td>5.1</td>\n",
              "      <td>3.5</td>\n",
              "      <td>1.4</td>\n",
              "      <td>0.2</td>\n",
              "    </tr>\n",
              "    <tr>\n",
              "      <th>1</th>\n",
              "      <td>4.9</td>\n",
              "      <td>3.0</td>\n",
              "      <td>1.4</td>\n",
              "      <td>0.2</td>\n",
              "    </tr>\n",
              "    <tr>\n",
              "      <th>2</th>\n",
              "      <td>4.7</td>\n",
              "      <td>3.2</td>\n",
              "      <td>1.3</td>\n",
              "      <td>0.2</td>\n",
              "    </tr>\n",
              "    <tr>\n",
              "      <th>3</th>\n",
              "      <td>4.6</td>\n",
              "      <td>3.1</td>\n",
              "      <td>1.5</td>\n",
              "      <td>0.2</td>\n",
              "    </tr>\n",
              "    <tr>\n",
              "      <th>4</th>\n",
              "      <td>5.0</td>\n",
              "      <td>3.6</td>\n",
              "      <td>1.4</td>\n",
              "      <td>0.2</td>\n",
              "    </tr>\n",
              "  </tbody>\n",
              "</table>\n",
              "</div>"
            ],
            "text/plain": [
              "   sepal length (cm)  sepal width (cm)  petal length (cm)  petal width (cm)\n",
              "0                5.1               3.5                1.4               0.2\n",
              "1                4.9               3.0                1.4               0.2\n",
              "2                4.7               3.2                1.3               0.2\n",
              "3                4.6               3.1                1.5               0.2\n",
              "4                5.0               3.6                1.4               0.2"
            ]
          },
          "metadata": {
            "tags": []
          },
          "execution_count": 22
        }
      ]
    },
    {
      "metadata": {
        "id": "y8INJGW5rfR3",
        "colab_type": "code",
        "colab": {
          "base_uri": "https://localhost:8080/",
          "height": 85
        },
        "outputId": "5e6ca605-1737-4997-ab67-b297efb096c6"
      },
      "cell_type": "code",
      "source": [
        "(x,y) = iris.data.shape\n",
        "\n",
        "indices = np.random.choice(x,x)\n",
        "\n",
        "train_X = iris.data[indices[:-20]].astype(\"float32\")\n",
        "train_Y = iris.target[indices[:-20]]\n",
        "test_X = iris.data[indices[-20:]].astype(\"float32\")\n",
        "test_Y = iris.target[indices[-20:]]\n",
        "\n",
        "print(train_X.shape)\n",
        "print(train_Y.shape)\n",
        "print(test_X.shape)\n",
        "print(test_Y.shape)"
      ],
      "execution_count": 23,
      "outputs": [
        {
          "output_type": "stream",
          "text": [
            "(130, 4)\n",
            "(130,)\n",
            "(20, 4)\n",
            "(20,)\n"
          ],
          "name": "stdout"
        }
      ]
    },
    {
      "metadata": {
        "id": "YsVVJmiItfmS",
        "colab_type": "code",
        "colab": {}
      },
      "cell_type": "code",
      "source": [
        "knn = KNeighborsClassifier(n_neighbors = 3)  #knn\n",
        "Logreg = LogisticRegression()                #Logistic Regression\n",
        "svc = SVC(kernel=\"linear\", C = 0.025)        #SVC\n",
        "svn = SVC(gamma = 2, C = 1)                  #SVC gamma\n",
        "gpc = GaussianProcessClassifier(1.0*RBF(1.0))#GaussianProcessClassifier\n",
        "dtc = DecisionTreeClassifier(max_depth = 5)  #DecisionTreeClassifier\n",
        "rfc = RandomForestClassifier(max_depth=5, n_estimators=10, max_features=1)  #RandomForestClassifier\n",
        "mlp =  MLPClassifier(alpha=1)                # MLPClassifier\n",
        "ab = AdaBoostClassifier()                    #AdaBoostClassifier\n",
        "gnb = GaussianNB()                           #GaussianNB\n",
        "qd = QuadraticDiscriminantAnalysis()         #QuadraticDiscriminantAnalysis"
      ],
      "execution_count": 0,
      "outputs": []
    },
    {
      "metadata": {
        "id": "BY3pct43vFDO",
        "colab_type": "code",
        "colab": {
          "base_uri": "https://localhost:8080/",
          "height": 173
        },
        "outputId": "f47c30b9-58db-40bb-c015-5c28b2030c94"
      },
      "cell_type": "code",
      "source": [
        "knn.fit(train_X,train_Y)\n",
        "Logreg.fit(train_X,train_Y)\n",
        "svc.fit(train_X,train_Y)\n",
        "svn.fit(train_X,train_Y)\n",
        "gpc.fit(train_X,train_Y)\n",
        "dtc.fit(train_X,train_Y)\n",
        "rfc.fit(train_X,train_Y)\n",
        "mlp.fit(train_X,train_Y)\n",
        "ab.fit(train_X,train_Y)\n",
        "gnb.fit(train_X,train_Y)\n",
        "qd.fit(train_X,train_Y)"
      ],
      "execution_count": 25,
      "outputs": [
        {
          "output_type": "stream",
          "text": [
            "/usr/local/lib/python3.6/dist-packages/sklearn/linear_model/logistic.py:433: FutureWarning: Default solver will be changed to 'lbfgs' in 0.22. Specify a solver to silence this warning.\n",
            "  FutureWarning)\n",
            "/usr/local/lib/python3.6/dist-packages/sklearn/linear_model/logistic.py:460: FutureWarning: Default multi_class will be changed to 'auto' in 0.22. Specify the multi_class option to silence this warning.\n",
            "  \"this warning.\", FutureWarning)\n",
            "/usr/local/lib/python3.6/dist-packages/sklearn/neural_network/multilayer_perceptron.py:562: ConvergenceWarning: Stochastic Optimizer: Maximum iterations (200) reached and the optimization hasn't converged yet.\n",
            "  % self.max_iter, ConvergenceWarning)\n"
          ],
          "name": "stderr"
        },
        {
          "output_type": "execute_result",
          "data": {
            "text/plain": [
              "QuadraticDiscriminantAnalysis(priors=None, reg_param=0.0,\n",
              "               store_covariance=False, store_covariances=None, tol=0.0001)"
            ]
          },
          "metadata": {
            "tags": []
          },
          "execution_count": 25
        }
      ]
    },
    {
      "metadata": {
        "id": "PygX_m7QveS3",
        "colab_type": "code",
        "colab": {
          "base_uri": "https://localhost:8080/",
          "height": 204
        },
        "outputId": "e3f472ce-247c-4560-f4f1-9ad61883645d"
      },
      "cell_type": "code",
      "source": [
        "pred_Y = knn.predict(test_X)\n",
        "print(f'knn : {metrics.accuracy_score(test_Y,pred_Y)}')\n",
        "pred_Y = Logreg.predict(test_X)\n",
        "print(f'Logistic Regression : {metrics.accuracy_score(test_Y,pred_Y)}')\n",
        "pred_Y = svc.predict(test_X)\n",
        "print(f'SVC : {metrics.accuracy_score(test_Y,pred_Y)}')\n",
        "pred_Y = svn.predict(test_X)\n",
        "print(f'SVC gamma : {metrics.accuracy_score(test_Y,pred_Y)}')\n",
        "pred_Y = gpc.predict(test_X)\n",
        "print(f'GaussianProcessClassifier : {metrics.accuracy_score(test_Y,pred_Y)}')\n",
        "pred_Y = dtc.predict(test_X)\n",
        "print(f'DecisionTreeClassifier : {metrics.accuracy_score(test_Y,pred_Y)}')\n",
        "pred_Y = rfc.predict(test_X)\n",
        "print(f'RandomForestClassifier : {metrics.accuracy_score(test_Y,pred_Y)}')\n",
        "pred_Y = mlp.predict(test_X)\n",
        "print(f'MLPClassifier : {metrics.accuracy_score(test_Y,pred_Y)}')\n",
        "pred_Y = ab.predict(test_X)\n",
        "print(f'AdaBoostClassifier : {metrics.accuracy_score(test_Y,pred_Y)}')\n",
        "pred_Y = gnb.predict(test_X)\n",
        "print(f'GaussianNB : {metrics.accuracy_score(test_Y,pred_Y)}')\n",
        "pred_Y = qd.predict(test_X)\n",
        "print(f'QuadraticDiscriminantAnalysis : {metrics.accuracy_score(test_Y,pred_Y)}')"
      ],
      "execution_count": 26,
      "outputs": [
        {
          "output_type": "stream",
          "text": [
            "knn : 0.95\n",
            "Logistic Regression : 0.8\n",
            "SVC : 0.95\n",
            "SVC gamma : 1.0\n",
            "GaussianProcessClassifier : 0.95\n",
            "DecisionTreeClassifier : 0.95\n",
            "RandomForestClassifier : 0.95\n",
            "MLPClassifier : 0.95\n",
            "AdaBoostClassifier : 0.95\n",
            "GaussianNB : 0.95\n",
            "QuadraticDiscriminantAnalysis : 1.0\n"
          ],
          "name": "stdout"
        }
      ]
    },
    {
      "metadata": {
        "id": "EdtqYSf1VoDw",
        "colab_type": "text"
      },
      "cell_type": "markdown",
      "source": [
        "Digits Dataset"
      ]
    },
    {
      "metadata": {
        "id": "HtzovawmwSlw",
        "colab_type": "code",
        "colab": {
          "base_uri": "https://localhost:8080/",
          "height": 799
        },
        "outputId": "364a1a93-72a0-4bae-ea71-a34eaf023eee"
      },
      "cell_type": "code",
      "source": [
        "digits = datasets.load_digits()\n",
        "print(digits.DESCR)"
      ],
      "execution_count": 27,
      "outputs": [
        {
          "output_type": "stream",
          "text": [
            ".. _digits_dataset:\n",
            "\n",
            "Optical recognition of handwritten digits dataset\n",
            "--------------------------------------------------\n",
            "\n",
            "**Data Set Characteristics:**\n",
            "\n",
            "    :Number of Instances: 5620\n",
            "    :Number of Attributes: 64\n",
            "    :Attribute Information: 8x8 image of integer pixels in the range 0..16.\n",
            "    :Missing Attribute Values: None\n",
            "    :Creator: E. Alpaydin (alpaydin '@' boun.edu.tr)\n",
            "    :Date: July; 1998\n",
            "\n",
            "This is a copy of the test set of the UCI ML hand-written digits datasets\n",
            "http://archive.ics.uci.edu/ml/datasets/Optical+Recognition+of+Handwritten+Digits\n",
            "\n",
            "The data set contains images of hand-written digits: 10 classes where\n",
            "each class refers to a digit.\n",
            "\n",
            "Preprocessing programs made available by NIST were used to extract\n",
            "normalized bitmaps of handwritten digits from a preprinted form. From a\n",
            "total of 43 people, 30 contributed to the training set and different 13\n",
            "to the test set. 32x32 bitmaps are divided into nonoverlapping blocks of\n",
            "4x4 and the number of on pixels are counted in each block. This generates\n",
            "an input matrix of 8x8 where each element is an integer in the range\n",
            "0..16. This reduces dimensionality and gives invariance to small\n",
            "distortions.\n",
            "\n",
            "For info on NIST preprocessing routines, see M. D. Garris, J. L. Blue, G.\n",
            "T. Candela, D. L. Dimmick, J. Geist, P. J. Grother, S. A. Janet, and C.\n",
            "L. Wilson, NIST Form-Based Handprint Recognition System, NISTIR 5469,\n",
            "1994.\n",
            "\n",
            ".. topic:: References\n",
            "\n",
            "  - C. Kaynak (1995) Methods of Combining Multiple Classifiers and Their\n",
            "    Applications to Handwritten Digit Recognition, MSc Thesis, Institute of\n",
            "    Graduate Studies in Science and Engineering, Bogazici University.\n",
            "  - E. Alpaydin, C. Kaynak (1998) Cascading Classifiers, Kybernetika.\n",
            "  - Ken Tang and Ponnuthurai N. Suganthan and Xi Yao and A. Kai Qin.\n",
            "    Linear dimensionalityreduction using relevance weighted LDA. School of\n",
            "    Electrical and Electronic Engineering Nanyang Technological University.\n",
            "    2005.\n",
            "  - Claudio Gentile. A New Approximate Maximal Margin Classification\n",
            "    Algorithm. NIPS. 2000.\n"
          ],
          "name": "stdout"
        }
      ]
    },
    {
      "metadata": {
        "id": "9OQ-hy7rwvFa",
        "colab_type": "code",
        "colab": {
          "base_uri": "https://localhost:8080/",
          "height": 68
        },
        "outputId": "368f6181-d523-430a-d9df-1af78c668610"
      },
      "cell_type": "code",
      "source": [
        "print(digits.keys())\n",
        "print(f'Target : {digits.target[np.random.choice(1797,20)]}')\n",
        "print(digits.data.shape)"
      ],
      "execution_count": 28,
      "outputs": [
        {
          "output_type": "stream",
          "text": [
            "dict_keys(['data', 'target', 'target_names', 'images', 'DESCR'])\n",
            "Target : [1 5 6 1 7 6 6 3 5 1 7 3 0 2 8 7 2 4 0 3]\n",
            "(1797, 64)\n"
          ],
          "name": "stdout"
        }
      ]
    },
    {
      "metadata": {
        "id": "WvpmQizuxGnH",
        "colab_type": "code",
        "colab": {
          "base_uri": "https://localhost:8080/",
          "height": 85
        },
        "outputId": "cb48e7d0-085a-451a-b672-ab3be369d82c"
      },
      "cell_type": "code",
      "source": [
        "(x,y) = digits.data.shape\n",
        "\n",
        "indices = np.random.choice(x,x)\n",
        "\n",
        "\n",
        "train_X = digits.data[indices[:-500]].astype(\"float32\")\n",
        "train_Y = digits.target[indices[:-500]]\n",
        "test_X = digits.data[indices[-500:]].astype(\"float32\")\n",
        "test_Y = digits.target[indices[-500:]]\n",
        "\n",
        "print(train_X.shape)\n",
        "print(train_Y.shape)\n",
        "print(test_X.shape)\n",
        "print(test_Y.shape)"
      ],
      "execution_count": 29,
      "outputs": [
        {
          "output_type": "stream",
          "text": [
            "(1297, 64)\n",
            "(1297,)\n",
            "(500, 64)\n",
            "(500,)\n"
          ],
          "name": "stdout"
        }
      ]
    },
    {
      "metadata": {
        "id": "8C-llaxJyGZw",
        "colab_type": "code",
        "colab": {
          "base_uri": "https://localhost:8080/",
          "height": 207
        },
        "outputId": "aabe545a-0980-43ac-8219-f31ec593cd95"
      },
      "cell_type": "code",
      "source": [
        "gpc1 = GaussianProcessClassifier()\n",
        "knn.fit(train_X,train_Y)\n",
        "Logreg.fit(train_X,train_Y)\n",
        "svc.fit(train_X,train_Y)\n",
        "svn.fit(train_X,train_Y)\n",
        "gpc1.fit(train_X,train_Y)\n",
        "dtc.fit(train_X,train_Y)\n",
        "rfc.fit(train_X,train_Y)\n",
        "mlp.fit(train_X,train_Y)\n",
        "ab.fit(train_X,train_Y)\n",
        "gnb.fit(train_X,train_Y)\n",
        "qd.fit(train_X,train_Y)"
      ],
      "execution_count": 30,
      "outputs": [
        {
          "output_type": "stream",
          "text": [
            "/usr/local/lib/python3.6/dist-packages/sklearn/linear_model/logistic.py:433: FutureWarning: Default solver will be changed to 'lbfgs' in 0.22. Specify a solver to silence this warning.\n",
            "  FutureWarning)\n",
            "/usr/local/lib/python3.6/dist-packages/sklearn/linear_model/logistic.py:460: FutureWarning: Default multi_class will be changed to 'auto' in 0.22. Specify the multi_class option to silence this warning.\n",
            "  \"this warning.\", FutureWarning)\n",
            "/usr/local/lib/python3.6/dist-packages/sklearn/neural_network/multilayer_perceptron.py:562: ConvergenceWarning: Stochastic Optimizer: Maximum iterations (200) reached and the optimization hasn't converged yet.\n",
            "  % self.max_iter, ConvergenceWarning)\n",
            "/usr/local/lib/python3.6/dist-packages/sklearn/discriminant_analysis.py:692: UserWarning: Variables are collinear\n",
            "  warnings.warn(\"Variables are collinear\")\n"
          ],
          "name": "stderr"
        },
        {
          "output_type": "execute_result",
          "data": {
            "text/plain": [
              "QuadraticDiscriminantAnalysis(priors=None, reg_param=0.0,\n",
              "               store_covariance=False, store_covariances=None, tol=0.0001)"
            ]
          },
          "metadata": {
            "tags": []
          },
          "execution_count": 30
        }
      ]
    },
    {
      "metadata": {
        "id": "wzGF2kUMyTWA",
        "colab_type": "code",
        "colab": {
          "base_uri": "https://localhost:8080/",
          "height": 204
        },
        "outputId": "56f64fc3-7133-48a1-869f-20f30cffdd97"
      },
      "cell_type": "code",
      "source": [
        "pred_Y = knn.predict(test_X)\n",
        "print(f'knn : {metrics.accuracy_score(test_Y,pred_Y)}')\n",
        "pred_Y = Logreg.predict(test_X)\n",
        "print(f'Logistic Regression : {metrics.accuracy_score(test_Y,pred_Y)}')\n",
        "pred_Y = svc.predict(test_X)\n",
        "print(f'SVC : {metrics.accuracy_score(test_Y,pred_Y)}')\n",
        "pred_Y = svn.predict(test_X)\n",
        "print(f'SVC gamma : {metrics.accuracy_score(test_Y,pred_Y)}')\n",
        "pred_Y = gpc1.predict(test_X)\n",
        "print(f'GaussianProcessClassifier : {metrics.accuracy_score(test_Y,pred_Y)}')\n",
        "pred_Y = dtc.predict(test_X)\n",
        "print(f'DecisionTreeClassifier : {metrics.accuracy_score(test_Y,pred_Y)}')\n",
        "pred_Y = rfc.predict(test_X)\n",
        "print(f'RandomForestClassifier : {metrics.accuracy_score(test_Y,pred_Y)}')\n",
        "pred_Y = mlp.predict(test_X)\n",
        "print(f'MLPClassifier : {metrics.accuracy_score(test_Y,pred_Y)}')\n",
        "pred_Y = ab.predict(test_X)\n",
        "print(f'AdaBoostClassifier : {metrics.accuracy_score(test_Y,pred_Y)}')\n",
        "pred_Y = gnb.predict(test_X)\n",
        "print(f'GaussianNB : {metrics.accuracy_score(test_Y,pred_Y)}')\n",
        "pred_Y = qd.predict(test_X)\n",
        "print(f'QuadraticDiscriminantAnalysis : {metrics.accuracy_score(test_Y,pred_Y)}')"
      ],
      "execution_count": 31,
      "outputs": [
        {
          "output_type": "stream",
          "text": [
            "knn : 0.992\n",
            "Logistic Regression : 0.982\n",
            "SVC : 0.996\n",
            "SVC gamma : 0.56\n",
            "GaussianProcessClassifier : 0.578\n",
            "DecisionTreeClassifier : 0.752\n",
            "RandomForestClassifier : 0.826\n",
            "MLPClassifier : 0.994\n",
            "AdaBoostClassifier : 0.278\n",
            "GaussianNB : 0.858\n",
            "QuadraticDiscriminantAnalysis : 0.798\n"
          ],
          "name": "stdout"
        }
      ]
    },
    {
      "metadata": {
        "id": "8r8177wOV1nX",
        "colab_type": "text"
      },
      "cell_type": "markdown",
      "source": [
        "Boston Dataset"
      ]
    },
    {
      "metadata": {
        "id": "KbxVOO8ayqUV",
        "colab_type": "code",
        "colab": {
          "base_uri": "https://localhost:8080/",
          "height": 904
        },
        "outputId": "9ada25b2-e61c-4cee-8fdc-0974f22f983c"
      },
      "cell_type": "code",
      "source": [
        "boston = datasets.load_boston()\n",
        "print(boston.DESCR)"
      ],
      "execution_count": 32,
      "outputs": [
        {
          "output_type": "stream",
          "text": [
            ".. _boston_dataset:\n",
            "\n",
            "Boston house prices dataset\n",
            "---------------------------\n",
            "\n",
            "**Data Set Characteristics:**  \n",
            "\n",
            "    :Number of Instances: 506 \n",
            "\n",
            "    :Number of Attributes: 13 numeric/categorical predictive. Median Value (attribute 14) is usually the target.\n",
            "\n",
            "    :Attribute Information (in order):\n",
            "        - CRIM     per capita crime rate by town\n",
            "        - ZN       proportion of residential land zoned for lots over 25,000 sq.ft.\n",
            "        - INDUS    proportion of non-retail business acres per town\n",
            "        - CHAS     Charles River dummy variable (= 1 if tract bounds river; 0 otherwise)\n",
            "        - NOX      nitric oxides concentration (parts per 10 million)\n",
            "        - RM       average number of rooms per dwelling\n",
            "        - AGE      proportion of owner-occupied units built prior to 1940\n",
            "        - DIS      weighted distances to five Boston employment centres\n",
            "        - RAD      index of accessibility to radial highways\n",
            "        - TAX      full-value property-tax rate per $10,000\n",
            "        - PTRATIO  pupil-teacher ratio by town\n",
            "        - B        1000(Bk - 0.63)^2 where Bk is the proportion of blacks by town\n",
            "        - LSTAT    % lower status of the population\n",
            "        - MEDV     Median value of owner-occupied homes in $1000's\n",
            "\n",
            "    :Missing Attribute Values: None\n",
            "\n",
            "    :Creator: Harrison, D. and Rubinfeld, D.L.\n",
            "\n",
            "This is a copy of UCI ML housing dataset.\n",
            "https://archive.ics.uci.edu/ml/machine-learning-databases/housing/\n",
            "\n",
            "\n",
            "This dataset was taken from the StatLib library which is maintained at Carnegie Mellon University.\n",
            "\n",
            "The Boston house-price data of Harrison, D. and Rubinfeld, D.L. 'Hedonic\n",
            "prices and the demand for clean air', J. Environ. Economics & Management,\n",
            "vol.5, 81-102, 1978.   Used in Belsley, Kuh & Welsch, 'Regression diagnostics\n",
            "...', Wiley, 1980.   N.B. Various transformations are used in the table on\n",
            "pages 244-261 of the latter.\n",
            "\n",
            "The Boston house-price data has been used in many machine learning papers that address regression\n",
            "problems.   \n",
            "     \n",
            ".. topic:: References\n",
            "\n",
            "   - Belsley, Kuh & Welsch, 'Regression diagnostics: Identifying Influential Data and Sources of Collinearity', Wiley, 1980. 244-261.\n",
            "   - Quinlan,R. (1993). Combining Instance-Based and Model-Based Learning. In Proceedings on the Tenth International Conference of Machine Learning, 236-243, University of Massachusetts, Amherst. Morgan Kaufmann.\n",
            "\n"
          ],
          "name": "stdout"
        }
      ]
    },
    {
      "metadata": {
        "id": "EJrAiOPMzLyv",
        "colab_type": "code",
        "colab": {
          "base_uri": "https://localhost:8080/",
          "height": 102
        },
        "outputId": "912e1a6e-09cb-4a33-ed75-79b4284d0f5b"
      },
      "cell_type": "code",
      "source": [
        "print(boston.keys())\n",
        "print(f'Header : {boston.feature_names}')\n",
        "print(f'Target : {boston.target[np.random.choice(506,13)]}')\n",
        "print(boston.data.shape)"
      ],
      "execution_count": 33,
      "outputs": [
        {
          "output_type": "stream",
          "text": [
            "dict_keys(['data', 'target', 'feature_names', 'DESCR', 'filename'])\n",
            "Header : ['CRIM' 'ZN' 'INDUS' 'CHAS' 'NOX' 'RM' 'AGE' 'DIS' 'RAD' 'TAX' 'PTRATIO'\n",
            " 'B' 'LSTAT']\n",
            "Target : [19.5 16.2 22.7 50.  20.3 20.3 23.3 18.9 21.1 50.  11.8 13.3 20.4]\n",
            "(506, 13)\n"
          ],
          "name": "stdout"
        }
      ]
    },
    {
      "metadata": {
        "id": "GVUQwXCQz4Ji",
        "colab_type": "code",
        "colab": {
          "base_uri": "https://localhost:8080/",
          "height": 204
        },
        "outputId": "db3308c3-c539-4e4e-98f7-3b2ff6833243"
      },
      "cell_type": "code",
      "source": [
        "df_boston = pd.DataFrame(boston.data, columns = boston.feature_names)\n",
        "df_boston.head()"
      ],
      "execution_count": 34,
      "outputs": [
        {
          "output_type": "execute_result",
          "data": {
            "text/html": [
              "<div>\n",
              "<style scoped>\n",
              "    .dataframe tbody tr th:only-of-type {\n",
              "        vertical-align: middle;\n",
              "    }\n",
              "\n",
              "    .dataframe tbody tr th {\n",
              "        vertical-align: top;\n",
              "    }\n",
              "\n",
              "    .dataframe thead th {\n",
              "        text-align: right;\n",
              "    }\n",
              "</style>\n",
              "<table border=\"1\" class=\"dataframe\">\n",
              "  <thead>\n",
              "    <tr style=\"text-align: right;\">\n",
              "      <th></th>\n",
              "      <th>CRIM</th>\n",
              "      <th>ZN</th>\n",
              "      <th>INDUS</th>\n",
              "      <th>CHAS</th>\n",
              "      <th>NOX</th>\n",
              "      <th>RM</th>\n",
              "      <th>AGE</th>\n",
              "      <th>DIS</th>\n",
              "      <th>RAD</th>\n",
              "      <th>TAX</th>\n",
              "      <th>PTRATIO</th>\n",
              "      <th>B</th>\n",
              "      <th>LSTAT</th>\n",
              "    </tr>\n",
              "  </thead>\n",
              "  <tbody>\n",
              "    <tr>\n",
              "      <th>0</th>\n",
              "      <td>0.00632</td>\n",
              "      <td>18.0</td>\n",
              "      <td>2.31</td>\n",
              "      <td>0.0</td>\n",
              "      <td>0.538</td>\n",
              "      <td>6.575</td>\n",
              "      <td>65.2</td>\n",
              "      <td>4.0900</td>\n",
              "      <td>1.0</td>\n",
              "      <td>296.0</td>\n",
              "      <td>15.3</td>\n",
              "      <td>396.90</td>\n",
              "      <td>4.98</td>\n",
              "    </tr>\n",
              "    <tr>\n",
              "      <th>1</th>\n",
              "      <td>0.02731</td>\n",
              "      <td>0.0</td>\n",
              "      <td>7.07</td>\n",
              "      <td>0.0</td>\n",
              "      <td>0.469</td>\n",
              "      <td>6.421</td>\n",
              "      <td>78.9</td>\n",
              "      <td>4.9671</td>\n",
              "      <td>2.0</td>\n",
              "      <td>242.0</td>\n",
              "      <td>17.8</td>\n",
              "      <td>396.90</td>\n",
              "      <td>9.14</td>\n",
              "    </tr>\n",
              "    <tr>\n",
              "      <th>2</th>\n",
              "      <td>0.02729</td>\n",
              "      <td>0.0</td>\n",
              "      <td>7.07</td>\n",
              "      <td>0.0</td>\n",
              "      <td>0.469</td>\n",
              "      <td>7.185</td>\n",
              "      <td>61.1</td>\n",
              "      <td>4.9671</td>\n",
              "      <td>2.0</td>\n",
              "      <td>242.0</td>\n",
              "      <td>17.8</td>\n",
              "      <td>392.83</td>\n",
              "      <td>4.03</td>\n",
              "    </tr>\n",
              "    <tr>\n",
              "      <th>3</th>\n",
              "      <td>0.03237</td>\n",
              "      <td>0.0</td>\n",
              "      <td>2.18</td>\n",
              "      <td>0.0</td>\n",
              "      <td>0.458</td>\n",
              "      <td>6.998</td>\n",
              "      <td>45.8</td>\n",
              "      <td>6.0622</td>\n",
              "      <td>3.0</td>\n",
              "      <td>222.0</td>\n",
              "      <td>18.7</td>\n",
              "      <td>394.63</td>\n",
              "      <td>2.94</td>\n",
              "    </tr>\n",
              "    <tr>\n",
              "      <th>4</th>\n",
              "      <td>0.06905</td>\n",
              "      <td>0.0</td>\n",
              "      <td>2.18</td>\n",
              "      <td>0.0</td>\n",
              "      <td>0.458</td>\n",
              "      <td>7.147</td>\n",
              "      <td>54.2</td>\n",
              "      <td>6.0622</td>\n",
              "      <td>3.0</td>\n",
              "      <td>222.0</td>\n",
              "      <td>18.7</td>\n",
              "      <td>396.90</td>\n",
              "      <td>5.33</td>\n",
              "    </tr>\n",
              "  </tbody>\n",
              "</table>\n",
              "</div>"
            ],
            "text/plain": [
              "      CRIM    ZN  INDUS  CHAS    NOX     RM   AGE     DIS  RAD    TAX  \\\n",
              "0  0.00632  18.0   2.31   0.0  0.538  6.575  65.2  4.0900  1.0  296.0   \n",
              "1  0.02731   0.0   7.07   0.0  0.469  6.421  78.9  4.9671  2.0  242.0   \n",
              "2  0.02729   0.0   7.07   0.0  0.469  7.185  61.1  4.9671  2.0  242.0   \n",
              "3  0.03237   0.0   2.18   0.0  0.458  6.998  45.8  6.0622  3.0  222.0   \n",
              "4  0.06905   0.0   2.18   0.0  0.458  7.147  54.2  6.0622  3.0  222.0   \n",
              "\n",
              "   PTRATIO       B  LSTAT  \n",
              "0     15.3  396.90   4.98  \n",
              "1     17.8  396.90   9.14  \n",
              "2     17.8  392.83   4.03  \n",
              "3     18.7  394.63   2.94  \n",
              "4     18.7  396.90   5.33  "
            ]
          },
          "metadata": {
            "tags": []
          },
          "execution_count": 34
        }
      ]
    },
    {
      "metadata": {
        "id": "6Yv8f9kC0Mm1",
        "colab_type": "code",
        "colab": {
          "base_uri": "https://localhost:8080/",
          "height": 85
        },
        "outputId": "6386dee1-d6f2-468e-f02f-70e01cbd94a1"
      },
      "cell_type": "code",
      "source": [
        "(x,y) = boston.data.shape\n",
        "\n",
        "indices = np.random.choice(x,x)\n",
        "\n",
        "tar = np.array(boston.target) // 10\n",
        "\n",
        "train_X = boston.data[indices[:-100]].astype(\"float32\")\n",
        "train_Y = tar[indices[:-100]]\n",
        "test_X = boston.data[indices[-100:]].astype(\"float32\")\n",
        "test_Y = tar[indices[-100:]]\n",
        "\n",
        "lab_enc = preprocessing.LabelEncoder()\n",
        "train_encoded_Y = lab_enc.fit_transform(train_Y)\n",
        "\n",
        "print(train_X.shape)\n",
        "print(train_Y.shape)\n",
        "print(test_X.shape)\n",
        "print(test_Y.shape)"
      ],
      "execution_count": 35,
      "outputs": [
        {
          "output_type": "stream",
          "text": [
            "(406, 13)\n",
            "(406,)\n",
            "(100, 13)\n",
            "(100,)\n"
          ],
          "name": "stdout"
        }
      ]
    },
    {
      "metadata": {
        "id": "p4O7BjFMTV8q",
        "colab_type": "code",
        "colab": {
          "base_uri": "https://localhost:8080/",
          "height": 173
        },
        "outputId": "96b4d0a1-773f-4b5b-9c9f-a38c7c36fb01"
      },
      "cell_type": "code",
      "source": [
        "gpc1 = GaussianProcessClassifier()\n",
        "knn.fit(train_X,train_Y)\n",
        "Logreg.fit(train_X,train_Y)\n",
        "svc.fit(train_X,train_Y)\n",
        "svn.fit(train_X,train_Y)\n",
        "gpc1.fit(train_X,train_Y)\n",
        "dtc.fit(train_X,train_Y)\n",
        "rfc.fit(train_X,train_Y)\n",
        "mlp.fit(train_X,train_Y)\n",
        "ab.fit(train_X,train_Y)\n",
        "gnb.fit(train_X,train_Y)\n",
        "qd.fit(train_X,train_Y)"
      ],
      "execution_count": 36,
      "outputs": [
        {
          "output_type": "stream",
          "text": [
            "/usr/local/lib/python3.6/dist-packages/sklearn/linear_model/logistic.py:433: FutureWarning: Default solver will be changed to 'lbfgs' in 0.22. Specify a solver to silence this warning.\n",
            "  FutureWarning)\n",
            "/usr/local/lib/python3.6/dist-packages/sklearn/linear_model/logistic.py:460: FutureWarning: Default multi_class will be changed to 'auto' in 0.22. Specify the multi_class option to silence this warning.\n",
            "  \"this warning.\", FutureWarning)\n",
            "/usr/local/lib/python3.6/dist-packages/sklearn/discriminant_analysis.py:692: UserWarning: Variables are collinear\n",
            "  warnings.warn(\"Variables are collinear\")\n"
          ],
          "name": "stderr"
        },
        {
          "output_type": "execute_result",
          "data": {
            "text/plain": [
              "QuadraticDiscriminantAnalysis(priors=None, reg_param=0.0,\n",
              "               store_covariance=False, store_covariances=None, tol=0.0001)"
            ]
          },
          "metadata": {
            "tags": []
          },
          "execution_count": 36
        }
      ]
    },
    {
      "metadata": {
        "id": "JoHch-xo44u-",
        "colab_type": "code",
        "colab": {
          "base_uri": "https://localhost:8080/",
          "height": 204
        },
        "outputId": "616c114b-c374-4d8e-a05b-53304cc86933"
      },
      "cell_type": "code",
      "source": [
        "pred_Y = knn.predict(test_X)\n",
        "print(f'knn : {metrics.accuracy_score(test_Y,pred_Y)}')\n",
        "pred_Y = Logreg.predict(test_X)\n",
        "print(f'Logistic Regression : {metrics.accuracy_score(test_Y,pred_Y)}')\n",
        "pred_Y = svc.predict(test_X)\n",
        "print(f'SVC : {metrics.accuracy_score(test_Y,pred_Y)}')\n",
        "pred_Y = svn.predict(test_X)\n",
        "print(f'SVC gamma : {metrics.accuracy_score(test_Y,pred_Y)}')\n",
        "pred_Y = gpc1.predict(test_X)\n",
        "print(f'GaussianProcessClassifier : {metrics.accuracy_score(test_Y,pred_Y)}')\n",
        "pred_Y = dtc.predict(test_X)\n",
        "print(f'DecisionTreeClassifier : {metrics.accuracy_score(test_Y,pred_Y)}')\n",
        "pred_Y = rfc.predict(test_X)\n",
        "print(f'RandomForestClassifier : {metrics.accuracy_score(test_Y,pred_Y)}')\n",
        "pred_Y = mlp.predict(test_X)\n",
        "print(f'MLPClassifier : {metrics.accuracy_score(test_Y,pred_Y)}')\n",
        "pred_Y = ab.predict(test_X)\n",
        "print(f'AdaBoostClassifier : {metrics.accuracy_score(test_Y,pred_Y)}')\n",
        "pred_Y = gnb.predict(test_X)\n",
        "print(f'GaussianNB : {metrics.accuracy_score(test_Y,pred_Y)}')\n",
        "pred_Y = qd.predict(test_X)\n",
        "print(f'QuadraticDiscriminantAnalysis : {metrics.accuracy_score(test_Y,pred_Y)}')"
      ],
      "execution_count": 37,
      "outputs": [
        {
          "output_type": "stream",
          "text": [
            "knn : 0.7\n",
            "Logistic Regression : 0.68\n",
            "SVC : 0.76\n",
            "SVC gamma : 0.78\n",
            "GaussianProcessClassifier : 0.68\n",
            "DecisionTreeClassifier : 0.83\n",
            "RandomForestClassifier : 0.73\n",
            "MLPClassifier : 0.61\n",
            "AdaBoostClassifier : 0.64\n",
            "GaussianNB : 0.51\n",
            "QuadraticDiscriminantAnalysis : 0.65\n"
          ],
          "name": "stdout"
        }
      ]
    }
  ]
}