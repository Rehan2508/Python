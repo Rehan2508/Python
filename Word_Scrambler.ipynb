{
  "nbformat": 4,
  "nbformat_minor": 0,
  "metadata": {
    "colab": {
      "name": "Word Scrambler.ipynb",
      "version": "0.3.2",
      "provenance": []
    },
    "kernelspec": {
      "name": "python3",
      "display_name": "Python 3"
    }
  },
  "cells": [
    {
      "metadata": {
        "id": "IV4Ar6allljp",
        "colab_type": "text"
      },
      "cell_type": "markdown",
      "source": [
        "Word Scrambler"
      ]
    },
    {
      "metadata": {
        "id": "gy1tsmEvKae_",
        "colab_type": "code",
        "colab": {
          "base_uri": "https://localhost:8080/",
          "height": 68
        },
        "outputId": "bbc53ca1-b3af-434b-aa92-6c9249e390b4"
      },
      "cell_type": "code",
      "source": [
        "import random\n",
        "\n",
        "\n",
        "def isFileName(word):\n",
        "  for i in word[0:-2]:\n",
        "    if i is '.':\n",
        "      return True\n",
        "  return False\n",
        "\n",
        "\n",
        "def scramble(word):\n",
        "  char_list = list(word[1:-1])\n",
        "  random.shuffle(char_list)\n",
        "  word = word[0]+''.join(char_list)+word[-1]\n",
        "  return word\n",
        "\n",
        "\n",
        "def scrambler(s):\n",
        "  s = s.split()\n",
        "  temp = ''\n",
        "  punctuation = ['!', '.', ',', '?']\n",
        "  \n",
        "  for word in s:\n",
        "    if isFileName(word):\n",
        "      temp = temp + ' ' + word\n",
        "    else:\n",
        "      if len(word) > 3:\n",
        "        if word[-1] in punctuation:\n",
        "          temp = temp + ' ' + scramble(word[0:-1]) + word[-1]\n",
        "        else:\n",
        "          temp = temp + ' ' + scramble(word)\n",
        "      else:\n",
        "        temp = temp + ' ' + word\n",
        "  print(temp.strip())\n",
        "  \n",
        "  \n",
        "\n",
        "str1 = \"   This is a  new word scrambler program.\"\n",
        "str2 = \"Where is the abc.doc, xyz.html file?\"\n",
        "str3 = \"Good morning! my dear friends\"\n",
        "scrambler(str1)\n",
        "scrambler(str2)\n",
        "scrambler(str3)"
      ],
      "execution_count": 83,
      "outputs": [
        {
          "output_type": "stream",
          "text": [
            "Tihs is a new word srbcalemr pagrrom.\n",
            "Werhe is the abc.doc, xyz.html file?\n",
            "Good mrnonig! my dear fendirs\n"
          ],
          "name": "stdout"
        }
      ]
    }
  ]
}