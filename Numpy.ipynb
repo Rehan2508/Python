{
  "nbformat": 4,
  "nbformat_minor": 0,
  "metadata": {
    "colab": {
      "name": "Numpy.ipynb",
      "version": "0.3.2",
      "provenance": [],
      "collapsed_sections": []
    },
    "kernelspec": {
      "name": "python3",
      "display_name": "Python 3"
    }
  },
  "cells": [
    {
      "metadata": {
        "id": "xVn99ZdfksCc",
        "colab_type": "code",
        "colab": {}
      },
      "cell_type": "code",
      "source": [
        "import numpy as np"
      ],
      "execution_count": 0,
      "outputs": []
    },
    {
      "metadata": {
        "id": "VBVkFSM1ocTM",
        "colab_type": "text"
      },
      "cell_type": "markdown",
      "source": [
        "Function to check whether numpy array has Zero values or not"
      ]
    },
    {
      "metadata": {
        "id": "2euayc_OnbXi",
        "colab_type": "code",
        "outputId": "91f1005b-c49f-4e2c-8c39-73081defe2a2",
        "colab": {
          "base_uri": "https://localhost:8080/",
          "height": 51
        }
      },
      "cell_type": "code",
      "source": [
        "def chkZeros(arr):\n",
        "  if 0 in arr:\n",
        "    return True\n",
        "  else:\n",
        "    return False\n",
        "  \n",
        "  \n",
        "arr1 = np.array([1,2,3,4,5,6,7,8,9])\n",
        "arr2 = np.arange(10)\n",
        "\n",
        "print(f'is there a zero in arr1 : {chkZeros(arr1)}')\n",
        "print(f'is there a zero in arr2 : {chkZeros(arr2)}')"
      ],
      "execution_count": 0,
      "outputs": [
        {
          "output_type": "stream",
          "text": [
            "is there a zero in arr1 : False\n",
            "is there a zero in arr2 : True\n"
          ],
          "name": "stdout"
        }
      ]
    },
    {
      "metadata": {
        "id": "p1D5coSNqWmt",
        "colab_type": "text"
      },
      "cell_type": "markdown",
      "source": [
        "Consider an array contains marks of students. Find the median and mean of students who got passing marks."
      ]
    },
    {
      "metadata": {
        "id": "06CDfJRDohXC",
        "colab_type": "code",
        "outputId": "ccf537c0-6f6f-42ed-ce73-835e64dde352",
        "colab": {
          "base_uri": "https://localhost:8080/",
          "height": 51
        }
      },
      "cell_type": "code",
      "source": [
        "def medMean(arr):\n",
        "  l = []\n",
        "  for i in arr:\n",
        "    if i >= 40:\n",
        "      l.append(i)\n",
        "  l = np.array(l)\n",
        "  \n",
        "  med = np.median(l)\n",
        "  mean = l.mean()\n",
        "  \n",
        "  print(f'Median of students who got passing marks = {med}')\n",
        "  print(f'Mean of students who got passing marks = {mean}')\n",
        "  \n",
        "arr1 = np.array([42,52,72,30,92,85,74,62,55,43])\n",
        "medMean(arr1)"
      ],
      "execution_count": 0,
      "outputs": [
        {
          "output_type": "stream",
          "text": [
            "Median of students who got passing marks = 62.0\n",
            "Mean of students who got passing marks = 64.11111111111111\n"
          ],
          "name": "stdout"
        }
      ]
    },
    {
      "metadata": {
        "id": "33neThiGywcm",
        "colab_type": "text"
      },
      "cell_type": "markdown",
      "source": [
        "Consider an array containing date of birth of students (Use np.datetime64('2018-02-01')). Find the age of all students. If age is 18 label it First, if it is 19, label it Second, if it is 20, label it Third, if it is 21, label it Fourth."
      ]
    },
    {
      "metadata": {
        "id": "rM6dsXWuqbTP",
        "colab_type": "code",
        "outputId": "c6478ab7-57aa-4bf3-dfdb-d8d5ecb43a75",
        "colab": {
          "base_uri": "https://localhost:8080/",
          "height": 136
        }
      },
      "cell_type": "code",
      "source": [
        "def getLabel(temp):\n",
        "  l = {18 : 'First', 19 : 'Second', 20 : 'Third', 21 : 'Fourth'}\n",
        "  return l[temp]\n",
        "  \n",
        "def labelAge(dob):\n",
        "  label = {}\n",
        "  curDate = np.datetime64('2019-04-09')\n",
        "  age = np.array((curDate - dob)/365, dtype = int)\n",
        "  for a in range(7): \n",
        "    lable = label.update({dob[a] : getLabel(age[a])})\n",
        "  for l in label:\n",
        "    print(f'{l} : {label[l]}')\n",
        "    \n",
        "  \n",
        "dob = ['1998-08-25','1998-09-09','1999-01-22','1999-03-10','1999-12-17','2000-12-05','1998-04-09']\n",
        "dob = np.array(dob, dtype = 'datetime64')\n",
        "labelAge(dob)"
      ],
      "execution_count": 0,
      "outputs": [
        {
          "output_type": "stream",
          "text": [
            "1998-08-25 : Third\n",
            "1998-09-09 : Third\n",
            "1999-01-22 : Third\n",
            "1999-03-10 : Third\n",
            "1999-12-17 : Second\n",
            "2000-12-05 : First\n",
            "1998-04-09 : Fourth\n"
          ],
          "name": "stdout"
        }
      ]
    },
    {
      "metadata": {
        "id": "4ZcYx_7M01OJ",
        "colab_type": "text"
      },
      "cell_type": "markdown",
      "source": [
        "Create a function to sort 2d Array by a column."
      ]
    },
    {
      "metadata": {
        "id": "GT9qZawiy0Ku",
        "colab_type": "code",
        "colab": {
          "base_uri": "https://localhost:8080/",
          "height": 153
        },
        "outputId": "95904689-454c-47c2-9c8a-b82130f57be6"
      },
      "cell_type": "code",
      "source": [
        "def sort(arr,dim):\n",
        "  l = []\n",
        "  for i in arr:\n",
        "    l = l + i.tolist()\n",
        "  l = np.array(l)\n",
        "  l.sort()\n",
        "  l = l.reshape((dim,dim))\n",
        "  print(f'Sorted array : ')\n",
        "  print(l)\n",
        "  \n",
        "arr = np.array([[2,1,4],[3,6,5],[8,9,7]])\n",
        "print(f'Given array : ')\n",
        "print(arr)\n",
        "sort(arr,3)"
      ],
      "execution_count": 23,
      "outputs": [
        {
          "output_type": "stream",
          "text": [
            "Given array : \n",
            "[[2 1 4]\n",
            " [3 6 5]\n",
            " [8 9 7]]\n",
            "Sorted array : \n",
            "[[1 2 3]\n",
            " [4 5 6]\n",
            " [7 8 9]]\n"
          ],
          "name": "stdout"
        }
      ]
    },
    {
      "metadata": {
        "id": "e6QDfLGn3oP8",
        "colab_type": "text"
      },
      "cell_type": "markdown",
      "source": [
        "Create one hot encoding of an array."
      ]
    },
    {
      "metadata": {
        "id": "3sE0-x6O06l2",
        "colab_type": "code",
        "colab": {
          "base_uri": "https://localhost:8080/",
          "height": 136
        },
        "outputId": "3497d357-806a-415f-eece-5e81f28256b2"
      },
      "cell_type": "code",
      "source": [
        "def hotEncoding(arr):\n",
        "  Max = arr.max()\n",
        "  (x,) = arr.shape\n",
        "  a = np.zeros((x,Max))\n",
        "  for i in range(x):\n",
        "    a[i][arr[i] - 1] = 1\n",
        "  print(f'one hot encoding of the given array : ')\n",
        "  print(a)\n",
        "  \n",
        "arr = np.array([2, 3, 2, 2, 2, 1])\n",
        "hotEncoding(arr)"
      ],
      "execution_count": 36,
      "outputs": [
        {
          "output_type": "stream",
          "text": [
            "one hot encoding of the given array : \n",
            "[[0. 1. 0.]\n",
            " [0. 0. 1.]\n",
            " [0. 1. 0.]\n",
            " [0. 1. 0.]\n",
            " [0. 1. 0.]\n",
            " [1. 0. 0.]]\n"
          ],
          "name": "stdout"
        }
      ]
    },
    {
      "metadata": {
        "id": "xhiZ27Z66sYq",
        "colab_type": "text"
      },
      "cell_type": "markdown",
      "source": [
        "Drop all missing values (i.e, nan values) from an array Input"
      ]
    },
    {
      "metadata": {
        "id": "yY2VCLFK3saG",
        "colab_type": "code",
        "colab": {
          "base_uri": "https://localhost:8080/",
          "height": 51
        },
        "outputId": "41faf1bd-b428-421f-9c37-902b804b6e7b"
      },
      "cell_type": "code",
      "source": [
        "def delNAN(arr):\n",
        "  print(f'Given array : {arr}')\n",
        "  arr = arr.tolist()\n",
        "  for i in arr:\n",
        "    if np.isnan(i):\n",
        "      arr.remove(i)\n",
        "  arr = np.array(arr)\n",
        "  print(f'Array after NAN removal : {arr}')\n",
        "  \n",
        "arr = np.array([1,2,3,np.nan,5,6,7,np.nan])\n",
        "delNAN(arr)"
      ],
      "execution_count": 45,
      "outputs": [
        {
          "output_type": "stream",
          "text": [
            "Given array : [ 1.  2.  3. nan  5.  6.  7. nan]\n",
            "Array after NAN removal : [1. 2. 3. 5. 6. 7.]\n"
          ],
          "name": "stdout"
        }
      ]
    },
    {
      "metadata": {
        "id": "qCkDNWws-s4s",
        "colab_type": "text"
      },
      "cell_type": "markdown",
      "source": [
        "Find Local maxima from an array."
      ]
    },
    {
      "metadata": {
        "id": "a2qp08Tw60-7",
        "colab_type": "code",
        "colab": {
          "base_uri": "https://localhost:8080/",
          "height": 34
        },
        "outputId": "ddec8060-da8f-45b8-d3b6-3bd9c2ae7d19"
      },
      "cell_type": "code",
      "source": [
        "def Maxima(arr):\n",
        "  (x,) = arr.shape\n",
        "  maxima = []\n",
        "  for i in range(x):\n",
        "    if i == 0:\n",
        "      if arr[i] > arr[i + 1]:\n",
        "        maxima.append(i)\n",
        "    elif i == (x - 1):\n",
        "      if arr[i] > arr[i - 1]:\n",
        "        maxima.append(i)\n",
        "    else:\n",
        "      if arr[i - 1] < arr[i] > arr[i + 1]:\n",
        "        maxima.append(i)\n",
        "  maxima = np.array(maxima)\n",
        "  print(f'Local maximas indexes : {maxima}')\n",
        "  \n",
        "  \n",
        "arr = np.array([1, 3, 7, 1, 2, 6, 0, 1])\n",
        "Maxima(arr)"
      ],
      "execution_count": 50,
      "outputs": [
        {
          "output_type": "stream",
          "text": [
            "Local maximas indexes : [2 5 7]\n"
          ],
          "name": "stdout"
        }
      ]
    },
    {
      "metadata": {
        "id": "ett8JLHBb88J",
        "colab_type": "text"
      },
      "cell_type": "markdown",
      "source": [
        "From the given 1d array arr, generate a 2d matrix using strides:\n",
        "For example for an array ([ 0,  1,  2,  3,  4,  5,  6,  7,  8,  9, 10, 11, 12, 13, 14])with a window length of w=4 and strides of s=2, like [[0,1,2,3], [2,3,4,5], [4,5,6,7]..].\n",
        "Also w and s will be provided by user"
      ]
    },
    {
      "metadata": {
        "id": "v_ICH5ZW-woi",
        "colab_type": "code",
        "colab": {
          "base_uri": "https://localhost:8080/",
          "height": 153
        },
        "outputId": "aaee3122-d1eb-4dbc-ec97-5dc870c1372a"
      },
      "cell_type": "code",
      "source": [
        "def genrate(arr,w,s):\n",
        "  (x,) = arr.shape\n",
        "  new_arr = []\n",
        "  for i in range(0, (x - w + 1), s):\n",
        "    end = i + w\n",
        "    new_arr.append(arr[i:end])\n",
        "  new_arr = np.array(new_arr, dtype = \"int64\")\n",
        "  print(new_arr)\n",
        "\n",
        "\n",
        "w = int(input('Enter the Window length : '))\n",
        "s = int(input('Enter the Strides : '))\n",
        "arr = np.array([ 0,  1,  2,  3,  4,  5,  6,  7,  8,  9, 10, 11, 12, 13, 14])\n",
        "genrate(arr,w,s)"
      ],
      "execution_count": 42,
      "outputs": [
        {
          "output_type": "stream",
          "text": [
            "Enter the Window length : 4\n",
            "Enter the Strides : 2\n",
            "[[ 0  1  2  3]\n",
            " [ 2  3  4  5]\n",
            " [ 4  5  6  7]\n",
            " [ 6  7  8  9]\n",
            " [ 8  9 10 11]\n",
            " [10 11 12 13]]\n"
          ],
          "name": "stdout"
        }
      ]
    }
  ]
}